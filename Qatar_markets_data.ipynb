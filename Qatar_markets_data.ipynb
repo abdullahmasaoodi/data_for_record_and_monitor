# needed libs
import requests
import pandas as pd
from pandas import json_normalize
import json
from urllib.request import urlopen
import numpy as np


#################################################################################    QATAR        ########################################################################################################
#for qatar market

url_qatar_markets = "https://www.qe.com.qa/wp/mw/bg/mw.php"

payload = 'f=MarketWatch'
headers = {
  'Accept': 'application/json, text/plain, */*',
  'Accept-Language': 'en,ar;q=0.9',
  'Connection': 'keep-alive',
  'Cookie': 'GUEST_LANGUAGE_ID=ar_SA; COOKIE_SUPPORT=true; _ga=GA1.3.1655899438.1717096457; TS011739b0=0166cb97e49d2b6a4cbbf1bd14a0720f34def0d52cbe12226efa2e7db44f546b8666cea16c49b88d026912ce5b80c3d2cd5982632b; JSESSIONID=CF47FC3C9B394FD7CCF7ADDE325F0C70; TS01b30ae4=0166cb97e4fc51109167109e1e1889780ae5c6834517cf0ba363e1c5c67edae77452b013c167c4a9105ce380f362fdee971eb66f965f8bcb68d22be865fe85060dba34e4cae7d4af68a206b8209efffbbd66660ae7; _gid=GA1.3.958024764.1718130991; _ga_WF5BK0MYBM=GS1.3.1718130991.3.0.1718130991.60.0.0; LFR_SESSION_STATE_20158=1718130996405; TS9afc51c1027=084d1c6a81ab200072c9e6fd208a5ddf89792a2e50016f78a28cdacd5664600a5ee7f4952e28e51808ff0b6e63113000033b43f2038ddbb089d40eb59d0138b0a094f6e8fb8ea9d6555df27046e948429f486163cd52144722ddd8cbc3312b50; TS011739b0=0166cb97e452532ecedf21392c1b89c0287c748d8519c999b39d6bf9d56b536a2037c3c4ad9d95a8910c8fdbe901fefbca36a8f768; TS9afc51c1027=084d1c6a81ab2000a59146dd13e07f4241865967cf47564152e0df04bf3d6f111e71b37db75a3e9308ab7aaf7b113000fb1eb99bea17dc3da405aeceda8a1395ab3b18615597766260066cb7ff470fd3896fe6969acbba70c00cc07d1fb0fd2d',
  'Origin': 'https://www.qe.com.qa',
  'Referer': 'https://www.qe.com.qa/wp/mws/market/main',
  'Sec-Fetch-Dest': 'empty',
  'Sec-Fetch-Mode': 'cors',
  'Sec-Fetch-Site': 'same-origin',
  'User-Agent': 'Mozilla/5.0 (Windows NT 10.0; Win64; x64) AppleWebKit/537.36 (KHTML, like Gecko) Chrome/125.0.0.0 Safari/537.36',
  'X-KL-saas-Ajax-Request': 'Ajax_Request',
  'content-type': 'application/x-www-form-urlencoded',
  'sec-ch-ua': '"Google Chrome";v="125", "Chromium";v="125", "Not.A/Brand";v="24"',
  'sec-ch-ua-mobile': '?0',
  'sec-ch-ua-platform': '"Windows"'
}

response_qatar_markets = requests.request("POST", url_qatar_markets, headers=headers, data=payload)
data_qatar_markets = response_qatar_markets.json()
whole_df_qatar_market = pd.DataFrame(data_qatar_markets['rows'])
whole_df_qatar_market["market"] =  "سوق قطر المالي"
whole_df_qatar_market["cUrl"] =  "-"

whole_df_qatar_market.loc[whole_df_qatar_market["CompType"] == "COMP", "market_type"] = "الأسهم - السوق الرئيسية"
whole_df_qatar_market.loc[whole_df_qatar_market["CompType"] == "BOND", "market_type"] = "الصكوك و السندات"
whole_df_qatar_market.loc[whole_df_qatar_market["CompType"] == "ETF", "market_type"] = "صناديق"
whole_df_qatar_market.loc[whole_df_qatar_market["CompType"] == "V", "market_type"] = "سوق الشركات الناشئة"

summary_df_qatar_market = whole_df_qatar_market[["cUrl", "CompanyAR", "Symbol", "LastPrice",  "market", "market_type"]]

summary_df_qatar_market = summary_df_qatar_market.rename(columns={
    "cUrl" : "الرابط",
    "CompanyAR" : "الاسم",
    "Symbol" : "الرمز",
    "LastPrice" : "آخر سعر" ,
    "market" : "السوق",
    "market_type" : "نوع الجهة"
})

summary_df_qatar_market
